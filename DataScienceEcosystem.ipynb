{
 "cells": [
  {
   "cell_type": "markdown",
   "id": "edc8bede",
   "metadata": {},
   "source": [
    "# Data Science Tools and Ecosystem\n",
    "\n",
    "In this notebook, Data Science Tools and Ecosystem are summarized.\n"
   ]
  },
  {
   "cell_type": "markdown",
   "id": "fa310ef9",
   "metadata": {},
   "source": [
    "Some of the popular languages that Data Scientists use are:\n",
    "\n",
    "1. Python\n",
    "\n",
    "2. R\n",
    "\n",
    "3. Scala\n",
    "\n",
    "4. SQL\n",
    "\n",
    "5. Julia"
   ]
  },
  {
   "cell_type": "markdown",
   "id": "d130c1e9",
   "metadata": {},
   "source": [
    "Some of the commonly used libraries used by Data Scientists include:\n",
    "\n",
    "1. TensorFlow.\n",
    "\n",
    "2. NumPy.\n",
    "\n",
    "3. SciPy.\n",
    "\n",
    "4. Pandas.\n",
    "\n",
    "5. Matplotlib.\n",
    "\n",
    "6. Keras.\n",
    "\n",
    "7. SciKit-Learn.\n",
    "\n",
    "8. PyTorch."
   ]
  },
  {
   "cell_type": "markdown",
   "id": "5d07e1cf",
   "metadata": {},
   "source": [
    "|Data Science Tools|\n",
    "|------------------|\n",
    "|Matlab|\n",
    "|Excel|\n",
    "|SAS|\n",
    "|Jupyter|\n",
    "|Rapid Miner|"
   ]
  },
  {
   "cell_type": "markdown",
   "id": "5c0c6be4",
   "metadata": {},
   "source": [
    "### Below are a few examples of evaluating arithmetic expressions in Python"
   ]
  },
  {
   "cell_type": "code",
   "execution_count": 5,
   "id": "3ceaf3d4",
   "metadata": {},
   "outputs": [
    {
     "data": {
      "text/plain": [
       "17"
      ]
     },
     "execution_count": 5,
     "metadata": {},
     "output_type": "execute_result"
    }
   ],
   "source": [
    "(3*4)+5\n",
    "#This a simple arithmetic expression to mutiply then add integers"
   ]
  },
  {
   "cell_type": "code",
   "execution_count": 6,
   "id": "663df3d2",
   "metadata": {},
   "outputs": [
    {
     "data": {
      "text/plain": [
       "3.3333333333333335"
      ]
     },
     "execution_count": 6,
     "metadata": {},
     "output_type": "execute_result"
    }
   ],
   "source": [
    "#This will convert 200 minutes to hours by diving by 60\n",
    "minutes = 200\n",
    "hours = minutes / 60\n",
    "hours"
   ]
  },
  {
   "cell_type": "markdown",
   "id": "beacc710",
   "metadata": {},
   "source": [
    "**Objectives:**\n",
    "List popular languages for Data Science\n",
    "\n",
    "* Python\n",
    "\n",
    "* R\n",
    "\n",
    "* SQL\n",
    "\n",
    "* Java\n",
    "\n",
    "* Julia\n",
    "\n",
    "* Scala\n"
   ]
  },
  {
   "cell_type": "markdown",
   "id": "3e36d00b",
   "metadata": {},
   "source": [
    "## Author\n",
    "Vidhya Shree H"
   ]
  },
  {
   "cell_type": "code",
   "execution_count": null,
   "id": "9310fdd1",
   "metadata": {},
   "outputs": [],
   "source": []
  }
 ],
 "metadata": {
  "kernelspec": {
   "display_name": "Python 3 (ipykernel)",
   "language": "python",
   "name": "python3"
  },
  "language_info": {
   "codemirror_mode": {
    "name": "ipython",
    "version": 3
   },
   "file_extension": ".py",
   "mimetype": "text/x-python",
   "name": "python",
   "nbconvert_exporter": "python",
   "pygments_lexer": "ipython3",
   "version": "3.9.13"
  }
 },
 "nbformat": 4,
 "nbformat_minor": 5
}
